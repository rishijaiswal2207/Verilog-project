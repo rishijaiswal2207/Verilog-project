{
  "metadata": {
    "language_info": {
      "codemirror_mode": {
        "name": "python",
        "version": 3
      },
      "file_extension": ".py",
      "mimetype": "text/x-python",
      "name": "python",
      "nbconvert_exporter": "python",
      "pygments_lexer": "ipython3",
      "version": "3.8"
    },
    "kernelspec": {
      "name": "python",
      "display_name": "Python (Pyodide)",
      "language": "python"
    }
  },
  "nbformat_minor": 4,
  "nbformat": 4,
  "cells": [
    {
      "cell_type": "code",
      "source": "\nmodule Sequence_Detector_MOORE_Verilog(sequence_in,clock,reset,detector_out);\ninput clock; \ninput reset;\ninput sequence_in; \noutput reg detector_out; \nparameter  Zero=3'b000, \n  One=3'b001, \n  OneZero=3'b011, \n  OneZeroOne=3'b010, \n  OneZeroOneOne=3'b110;\nreg [2:0] current_state, next_state; \nalways @(posedge clock, posedge reset)\nbegin\n if(reset==1) \n current_state <= Zero;\n else\n current_state <= next_state; \nend \nalways @(current_state,sequence_in)\nbegin\n case(current_state) \n Zero:begin\n  if(sequence_in==1)\n   next_state = One;\n  else\n   next_state = Zero;\n end\n One:begin\n  if(sequence_in==0)\n   next_state = OneZero;\n  else\n   next_state = One;\n end\n OneZero:begin\n  if(sequence_in==0)\n   next_state = Zero;\n  else\n   next_state = OneZeroOne;\n end \n OneZeroOne:begin\n  if(sequence_in==0)\n   next_state = OneZero;\n  else\n   next_state = OneZeroOneOne;\n end\n OneZeroOneOne:begin\n  if(sequence_in==0)\n   next_state = OneZero;\n  else\n   next_state = One;\n end\n default:next_state = Zero;\n endcase\nend\nalways @(current_state)\nbegin \n case(current_state) \n Zero:   detector_out = 0;\n One:   detector_out = 0;\n OneZero:  detector_out = 0;\n OneZeroOne:  detector_out = 0;\n OneZeroOneOne:  detector_out = 1;\n default:  detector_out = 0;\n endcase\nend \nendmodule\n\n`timescale 1ns / 1ps\nmodule tb_Sequence_Detector_Moore_FSM_Verilog;\n\n \n reg sequence_in;\n reg clock;\n reg reset;\n\n \n wire detector_out;\n\n \n Sequence_Detector_MOORE_Verilog uut (.sequence_in(sequence_in),.clock(clock),.reset(reset), .detector_out(detector_out));\n initial begin\n clock = 0;\n forever #5 clock = ~clock;\n end \n initial begin\n \n  sequence_in = 0;\n  reset = 1;\n  \n  #30;\n      reset = 0;\n  #40;\n  sequence_in = 1;\n  #10;\n  sequence_in = 0;\n  #10;\n  sequence_in = 1; \n  #20;\n  sequence_in = 0; \n  #20;\n  sequence_in = 1; \n  #20;\n  sequence_in = 0;  \n \n\n end\n      \nendmodule",
      "metadata": {},
      "execution_count": null,
      "outputs": []
    }
  ]
}